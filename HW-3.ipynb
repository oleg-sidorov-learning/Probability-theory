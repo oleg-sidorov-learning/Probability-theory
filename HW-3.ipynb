{
 "cells": [
  {
   "cell_type": "code",
   "execution_count": 1,
   "metadata": {},
   "outputs": [],
   "source": [
    "import numpy as np"
   ]
  },
  {
   "cell_type": "code",
   "execution_count": 2,
   "metadata": {},
   "outputs": [],
   "source": [
    "def comb(n, k):\n",
    "    \n",
    "    \"\"\"\n",
    "    Формула для вычисления количества комбинаций.\n",
    "    n - множество элементов\n",
    "    k - набор выбранных элементов\n",
    "    \"\"\"\n",
    "    c = np.math.factorial(n) / (np.math.factorial(k) * np.math.factorial(n - k))\n",
    "    return int(c)"
   ]
  },
  {
   "cell_type": "markdown",
   "metadata": {},
   "source": [
    "1\n",
    "Даны значения зарплат из выборки выпускников: 100, 80, 75, 77, 89, 33, 45, 25, 65, 17, 30, 24, 57, 55, 70, 75, 65, 84, 90, 150. Посчитать (желательно без использования статистических методов наподобие std, var, mean) среднее арифметическое, среднее квадратичное отклонение, смещенную и несмещенную оценки дисперсий для данной выборки."
   ]
  },
  {
   "cell_type": "code",
   "execution_count": 3,
   "metadata": {},
   "outputs": [],
   "source": [
    "sal = np.array([100, 80, 75, 77, 89, 33, 45, 25, 65, 17, 30, 24, 57, 55, 70, 75, 65, 84, 90, 150])"
   ]
  },
  {
   "cell_type": "code",
   "execution_count": 4,
   "metadata": {},
   "outputs": [
    {
     "data": {
      "text/plain": [
       "65.3"
      ]
     },
     "execution_count": 4,
     "metadata": {},
     "output_type": "execute_result"
    }
   ],
   "source": [
    "sal_mean = sal.sum() / np.count_nonzero(sal)\n",
    "sal_mean"
   ]
  },
  {
   "cell_type": "code",
   "execution_count": 5,
   "metadata": {},
   "outputs": [
    {
     "data": {
      "text/plain": [
       "30.823854398825596"
      ]
     },
     "execution_count": 5,
     "metadata": {},
     "output_type": "execute_result"
    }
   ],
   "source": [
    "sal_std = np.sqrt(((sal - (sal.sum() / np.count_nonzero(sal)))**2).sum() / np.count_nonzero(sal))\n",
    "sal_std"
   ]
  },
  {
   "cell_type": "code",
   "execution_count": 6,
   "metadata": {},
   "outputs": [
    {
     "data": {
      "text/plain": [
       "950.11"
      ]
     },
     "execution_count": 6,
     "metadata": {},
     "output_type": "execute_result"
    }
   ],
   "source": [
    "sal_var = ((sal - (sal.sum() / np.count_nonzero(sal)))**2).sum() / np.count_nonzero(sal)\n",
    "sal_var"
   ]
  },
  {
   "cell_type": "code",
   "execution_count": 7,
   "metadata": {},
   "outputs": [
    {
     "data": {
      "text/plain": [
       "1000.1157894736842"
      ]
     },
     "execution_count": 7,
     "metadata": {},
     "output_type": "execute_result"
    }
   ],
   "source": [
    "sal_var_unbiased = ((sal - (sal.sum() / np.count_nonzero(sal)))**2).sum() / (np.count_nonzero(sal) - 1)\n",
    "sal_var_unbiased"
   ]
  },
  {
   "cell_type": "markdown",
   "metadata": {},
   "source": [
    "2\n",
    "В первом ящике находится 8 мячей, из которых 5 - белые. Во втором ящике - 12 мячей, из которых 5 белых. Из первого ящика вытаскивают случайным образом два мяча, из второго - 4. Какова вероятность того, что 3 мяча белые?"
   ]
  },
  {
   "cell_type": "code",
   "execution_count": 9,
   "metadata": {},
   "outputs": [
    {
     "data": {
      "text/plain": [
       "(0.015151515151515152,\n",
       " 0.22727272727272727,\n",
       " 0.12626262626262627,\n",
       " 0.36868686868686873)"
      ]
     },
     "execution_count": 9,
     "metadata": {},
     "output_type": "execute_result"
    }
   ],
   "source": [
    "# есть 3 способа вытащить 3 белых мяча - 3 из второй корзины, 1 из первой и 2 из второй, 2 из первой и 1 из второй\n",
    "p1 = comb(3, 2) / comb(8, 2) * (comb(5, 3) * comb(7, 1))/comb(12, 4)\n",
    "p2 = ((comb(5, 1) * comb(3, 1)) / comb(8, 2)) * ((comb(5, 2) * comb(7, 2)) / comb(12, 4))\n",
    "p3 = comb(5, 2) / comb(8, 2) * ((comb(5, 1) * comb(7, 3)) / comb(12, 4))\n",
    "p = p1 + p2 + p3\n",
    "\n",
    "p1, p2, p3, p"
   ]
  },
  {
   "cell_type": "markdown",
   "metadata": {},
   "source": [
    "3\n",
    "На соревновании по биатлону один из трех спортсменов стреляет и попадает в мишень. Вероятность попадания для первого спортсмена равна 0.9, для второго — 0.8, для третьего — 0.6. Найти вероятность того, что выстрел произведен: a). первым спортсменом б). вторым спортсменом в). третьим спортсменом."
   ]
  },
  {
   "cell_type": "code",
   "execution_count": 10,
   "metadata": {},
   "outputs": [
    {
     "data": {
      "text/plain": [
       "(0.391304347826087, 0.3478260869565218, 0.2608695652173913)"
      ]
     },
     "execution_count": 10,
     "metadata": {},
     "output_type": "execute_result"
    }
   ],
   "source": [
    "b = 1/3\n",
    "\n",
    "p_ab1 = 0.9\n",
    "p_ab2 = 0.8\n",
    "p_ab3 = 0.6\n",
    "\n",
    "p_a = b * p_ab1 + b * p_ab2 + b * p_ab3\n",
    "\n",
    "# a) выстрел произведен первым спортсменом\n",
    "p_b1a = b * p_ab1 / p_a\n",
    "\n",
    "# б) выстрел произведен вторым спортсменом\n",
    "p_b2a = b * p_ab2 / p_a\n",
    "\n",
    "# в) выстрел произведен третьим спортсменом\n",
    "p_b3a = b * p_ab3 / p_a\n",
    "\n",
    "p_b1a, p_b2a, p_b3a"
   ]
  },
  {
   "cell_type": "markdown",
   "metadata": {},
   "source": [
    "4\n",
    "В университет на факультеты A и B поступило равное количество студентов, а на факультет C студентов поступило столько же, сколько на A и B вместе. Вероятность того, что студент факультета A сдаст первую сессию, равна 0.8. Для студента факультета B эта вероятность равна 0.7, а для студента факультета C - 0.9. Студент сдал первую сессию. Какова вероятность, что он учится: a). на факультете A б). на факультете B в). на факультете C?"
   ]
  },
  {
   "cell_type": "code",
   "execution_count": 11,
   "metadata": {},
   "outputs": [
    {
     "data": {
      "text/plain": [
       "(0.24242424242424246, 0.21212121212121213, 0.5454545454545455)"
      ]
     },
     "execution_count": 11,
     "metadata": {},
     "output_type": "execute_result"
    }
   ],
   "source": [
    "b_a = 0.25\n",
    "b_b = 0.25\n",
    "b_c = 0.5\n",
    "\n",
    "p_ab_a = 0.8\n",
    "p_ab_b = 0.7\n",
    "p_ab_c = 0.9\n",
    "\n",
    "p_a = b_a * p_ab_a + b_b * p_ab_b + b_c * p_ab_c\n",
    "\n",
    "# a) студент учится на факультете А\n",
    "p_baa = b_a * p_ab_a / p_a\n",
    "\n",
    "# б) студент учится на факультете Б\n",
    "p_bba = b_b * p_ab_b / p_a\n",
    "\n",
    "# в) студент учится на факультете В\n",
    "p_bca = b_c * p_ab_c / p_a\n",
    "\n",
    "p_baa, p_bba, p_bca"
   ]
  },
  {
   "cell_type": "markdown",
   "metadata": {},
   "source": [
    "5\n",
    "Устройство состоит из трех деталей. Для первой детали вероятность выйти из строя в первый месяц равна 0.1, для второй - 0.2, для третьей - 0.25. Какова вероятность того, что в первый месяц выйдут из строя: а). все детали б). только две детали в). хотя бы одна"
   ]
  },
  {
   "cell_type": "code",
   "execution_count": 12,
   "metadata": {},
   "outputs": [
    {
     "data": {
      "text/plain": [
       "(0.005000000000000001, 0.08000000000000002, 0.45999999999999996)"
      ]
     },
     "execution_count": 12,
     "metadata": {},
     "output_type": "execute_result"
    }
   ],
   "source": [
    "# а) все детали выходят из строя\n",
    "p_a = 0.1 * 0.2 * 0.25\n",
    "\n",
    "# б) 2 детали выходят из строя\n",
    "p_b1 = 0.1 * 0.2 * 0.75\n",
    "p_b2 = 0.9 * 0.2 * 0.25\n",
    "p_b3 = 0.1 * 0.8 * 0.25\n",
    "p_b = p_b1 + p_b2 + p_b3\n",
    "\n",
    "# в) хотя бы одна деталь выходит из строя\n",
    "p_c = 1 - 0.9 * 0.8 * 0.75\n",
    "\n",
    "p_a, p_b, p_c"
   ]
  },
  {
   "cell_type": "code",
   "execution_count": null,
   "metadata": {},
   "outputs": [],
   "source": []
  }
 ],
 "metadata": {
  "kernelspec": {
   "display_name": "Python 3",
   "language": "python",
   "name": "python3"
  },
  "language_info": {
   "codemirror_mode": {
    "name": "ipython",
    "version": 3
   },
   "file_extension": ".py",
   "mimetype": "text/x-python",
   "name": "python",
   "nbconvert_exporter": "python",
   "pygments_lexer": "ipython3",
   "version": "3.8.5"
  }
 },
 "nbformat": 4,
 "nbformat_minor": 4
}
